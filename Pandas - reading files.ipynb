{
 "cells": [
  {
   "cell_type": "code",
   "execution_count": 2,
   "metadata": {},
   "outputs": [],
   "source": [
    "import numpy as np\n",
    "import pandas as pd   # pd is the alias name given to pandas\n",
    "np.set_printoptions(precision=4)  # setting up the decimal places to 4"
   ]
  },
  {
   "cell_type": "code",
   "execution_count": 13,
   "metadata": {},
   "outputs": [
    {
     "data": {
      "text/html": [
       "<div>\n",
       "<style scoped>\n",
       "    .dataframe tbody tr th:only-of-type {\n",
       "        vertical-align: middle;\n",
       "    }\n",
       "\n",
       "    .dataframe tbody tr th {\n",
       "        vertical-align: top;\n",
       "    }\n",
       "\n",
       "    .dataframe thead th {\n",
       "        text-align: right;\n",
       "    }\n",
       "</style>\n",
       "<table border=\"1\" class=\"dataframe\">\n",
       "  <thead>\n",
       "    <tr style=\"text-align: right;\">\n",
       "      <th></th>\n",
       "      <th>a</th>\n",
       "      <th>b</th>\n",
       "      <th>c</th>\n",
       "      <th>d</th>\n",
       "      <th>message</th>\n",
       "    </tr>\n",
       "  </thead>\n",
       "  <tbody>\n",
       "    <tr>\n",
       "      <th>0</th>\n",
       "      <td>1</td>\n",
       "      <td>2</td>\n",
       "      <td>3</td>\n",
       "      <td>4</td>\n",
       "      <td>hello</td>\n",
       "    </tr>\n",
       "    <tr>\n",
       "      <th>1</th>\n",
       "      <td>5</td>\n",
       "      <td>6</td>\n",
       "      <td>7</td>\n",
       "      <td>8</td>\n",
       "      <td>world</td>\n",
       "    </tr>\n",
       "    <tr>\n",
       "      <th>2</th>\n",
       "      <td>9</td>\n",
       "      <td>10</td>\n",
       "      <td>11</td>\n",
       "      <td>12</td>\n",
       "      <td>foo</td>\n",
       "    </tr>\n",
       "  </tbody>\n",
       "</table>\n",
       "</div>"
      ],
      "text/plain": [
       "   a   b   c   d message\n",
       "0  1   2   3   4   hello\n",
       "1  5   6   7   8   world\n",
       "2  9  10  11  12     foo"
      ]
     },
     "execution_count": 13,
     "metadata": {},
     "output_type": "execute_result"
    }
   ],
   "source": [
    "data2 = pd.read_csv(\"E:/DS -Python/pandas_demo.csv\")   # reading comma sepearated file (CSV) # tab separated (tsv)\n",
    "                                            # by default the sep = \",\" you can change it whatever you want sep = \"\\t\"\n",
    "data2.head()"
   ]
  },
  {
   "cell_type": "code",
   "execution_count": 11,
   "metadata": {},
   "outputs": [
    {
     "name": "stderr",
     "output_type": "stream",
     "text": [
      "C:\\Users\\Sunil Kumar\\Anaconda3\\lib\\site-packages\\ipykernel_launcher.py:2: FutureWarning: read_table is deprecated, use read_csv instead, passing sep='\\t'.\n",
      "  \n"
     ]
    },
    {
     "data": {
      "text/html": [
       "<div>\n",
       "<style scoped>\n",
       "    .dataframe tbody tr th:only-of-type {\n",
       "        vertical-align: middle;\n",
       "    }\n",
       "\n",
       "    .dataframe tbody tr th {\n",
       "        vertical-align: top;\n",
       "    }\n",
       "\n",
       "    .dataframe thead th {\n",
       "        text-align: right;\n",
       "    }\n",
       "</style>\n",
       "<table border=\"1\" class=\"dataframe\">\n",
       "  <thead>\n",
       "    <tr style=\"text-align: right;\">\n",
       "      <th></th>\n",
       "      <th>a</th>\n",
       "      <th>b</th>\n",
       "      <th>c</th>\n",
       "      <th>d</th>\n",
       "      <th>message</th>\n",
       "    </tr>\n",
       "  </thead>\n",
       "  <tbody>\n",
       "    <tr>\n",
       "      <th>0</th>\n",
       "      <td>20</td>\n",
       "      <td>21</td>\n",
       "      <td>22</td>\n",
       "      <td>23</td>\n",
       "      <td>hello</td>\n",
       "    </tr>\n",
       "    <tr>\n",
       "      <th>1</th>\n",
       "      <td>24</td>\n",
       "      <td>25</td>\n",
       "      <td>26</td>\n",
       "      <td>27</td>\n",
       "      <td>world</td>\n",
       "    </tr>\n",
       "    <tr>\n",
       "      <th>2</th>\n",
       "      <td>28</td>\n",
       "      <td>29</td>\n",
       "      <td>30</td>\n",
       "      <td>31</td>\n",
       "      <td>hey</td>\n",
       "    </tr>\n",
       "  </tbody>\n",
       "</table>\n",
       "</div>"
      ],
      "text/plain": [
       "    a   b   c   d message\n",
       "0  20  21  22  23   hello\n",
       "1  24  25  26  27   world\n",
       "2  28  29  30  31     hey"
      ]
     },
     "execution_count": 11,
     "metadata": {},
     "output_type": "execute_result"
    }
   ],
   "source": [
    "# read tsv data. specifically for the tab separated file\n",
    "data = pd.read_table(\"E:\\DS -Python\\pandas_demo1.tsv\")\n",
    "data.head()"
   ]
  },
  {
   "cell_type": "code",
   "execution_count": 11,
   "metadata": {},
   "outputs": [
    {
     "data": {
      "text/html": [
       "<div>\n",
       "<style scoped>\n",
       "    .dataframe tbody tr th:only-of-type {\n",
       "        vertical-align: middle;\n",
       "    }\n",
       "\n",
       "    .dataframe tbody tr th {\n",
       "        vertical-align: top;\n",
       "    }\n",
       "\n",
       "    .dataframe thead th {\n",
       "        text-align: right;\n",
       "    }\n",
       "</style>\n",
       "<table border=\"1\" class=\"dataframe\">\n",
       "  <thead>\n",
       "    <tr style=\"text-align: right;\">\n",
       "      <th></th>\n",
       "      <th>0</th>\n",
       "      <th>1</th>\n",
       "      <th>2</th>\n",
       "      <th>3</th>\n",
       "      <th>4</th>\n",
       "    </tr>\n",
       "  </thead>\n",
       "  <tbody>\n",
       "    <tr>\n",
       "      <th>0</th>\n",
       "      <td>a</td>\n",
       "      <td>b</td>\n",
       "      <td>c</td>\n",
       "      <td>d</td>\n",
       "      <td>message</td>\n",
       "    </tr>\n",
       "    <tr>\n",
       "      <th>1</th>\n",
       "      <td>1</td>\n",
       "      <td>2</td>\n",
       "      <td>3</td>\n",
       "      <td>4</td>\n",
       "      <td>hello</td>\n",
       "    </tr>\n",
       "    <tr>\n",
       "      <th>2</th>\n",
       "      <td>5</td>\n",
       "      <td>6</td>\n",
       "      <td>7</td>\n",
       "      <td>8</td>\n",
       "      <td>world</td>\n",
       "    </tr>\n",
       "    <tr>\n",
       "      <th>3</th>\n",
       "      <td>9</td>\n",
       "      <td>10</td>\n",
       "      <td>11</td>\n",
       "      <td>12</td>\n",
       "      <td>foo</td>\n",
       "    </tr>\n",
       "  </tbody>\n",
       "</table>\n",
       "</div>"
      ],
      "text/plain": [
       "   0   1   2   3        4\n",
       "0  a   b   c   d  message\n",
       "1  1   2   3   4    hello\n",
       "2  5   6   7   8    world\n",
       "3  9  10  11  12      foo"
      ]
     },
     "execution_count": 11,
     "metadata": {},
     "output_type": "execute_result"
    }
   ],
   "source": [
    "data = pd.read_csv(\"E:/DS -Python/pandas_demo.csv\", header= None)  #  by default it will be header = infer \n",
    "data.head()   # taking a b c d message as data and not header using header = None"
   ]
  },
  {
   "cell_type": "code",
   "execution_count": null,
   "metadata": {},
   "outputs": [],
   "source": [
    "data = pd.read_csv(\"E:/DS -Python/pandas_demo.csv\", names=['name','dept','age','salary']) \n",
    "# we can also create our own header name if we choose header as None. This can be done through names = []. if you give more\n",
    "# column name than the data if will add and give in  details as NaN (not a number). "
   ]
  },
  {
   "cell_type": "code",
   "execution_count": null,
   "metadata": {},
   "outputs": [],
   "source": [
    "data = pd.read_csv(\"E:/DS -Python/pandas_demo.csv\", skiprows=[0,2,3]) # this will skip 0,2,3 rows and display the rows"
   ]
  },
  {
   "cell_type": "code",
   "execution_count": 5,
   "metadata": {},
   "outputs": [
    {
     "data": {
      "text/html": [
       "<div>\n",
       "<style scoped>\n",
       "    .dataframe tbody tr th:only-of-type {\n",
       "        vertical-align: middle;\n",
       "    }\n",
       "\n",
       "    .dataframe tbody tr th {\n",
       "        vertical-align: top;\n",
       "    }\n",
       "\n",
       "    .dataframe thead th {\n",
       "        text-align: right;\n",
       "    }\n",
       "</style>\n",
       "<table border=\"1\" class=\"dataframe\">\n",
       "  <thead>\n",
       "    <tr style=\"text-align: right;\">\n",
       "      <th></th>\n",
       "      <th>a</th>\n",
       "      <th>b</th>\n",
       "      <th>c</th>\n",
       "      <th>d</th>\n",
       "      <th>message</th>\n",
       "    </tr>\n",
       "  </thead>\n",
       "  <tbody>\n",
       "    <tr>\n",
       "      <th>0</th>\n",
       "      <td>False</td>\n",
       "      <td>False</td>\n",
       "      <td>False</td>\n",
       "      <td>False</td>\n",
       "      <td>False</td>\n",
       "    </tr>\n",
       "    <tr>\n",
       "      <th>1</th>\n",
       "      <td>False</td>\n",
       "      <td>False</td>\n",
       "      <td>False</td>\n",
       "      <td>False</td>\n",
       "      <td>False</td>\n",
       "    </tr>\n",
       "    <tr>\n",
       "      <th>2</th>\n",
       "      <td>False</td>\n",
       "      <td>False</td>\n",
       "      <td>False</td>\n",
       "      <td>False</td>\n",
       "      <td>False</td>\n",
       "    </tr>\n",
       "  </tbody>\n",
       "</table>\n",
       "</div>"
      ],
      "text/plain": [
       "       a      b      c      d  message\n",
       "0  False  False  False  False    False\n",
       "1  False  False  False  False    False\n",
       "2  False  False  False  False    False"
      ]
     },
     "execution_count": 5,
     "metadata": {},
     "output_type": "execute_result"
    }
   ],
   "source": [
    "pd.isnull(data)   # it returns in boolean whether any NA or null (no value given) values are there. \n",
    "                    #it give True if there is any NA value"
   ]
  },
  {
   "cell_type": "code",
   "execution_count": null,
   "metadata": {},
   "outputs": [],
   "source": [
    "data = pd.read_csv(\"E:/DS -Python/pandas_demo.csv\", na_values=['Null']) # this will add NaN  in blank or NA field "
   ]
  },
  {
   "cell_type": "code",
   "execution_count": null,
   "metadata": {},
   "outputs": [],
   "source": [
    "# Reading Excel file \n"
   ]
  },
  {
   "cell_type": "code",
   "execution_count": null,
   "metadata": {},
   "outputs": [],
   "source": [
    "data = pd.read_excel(\"E:/DS -Python/pandas_demo.xlsx\", sheetname = 'income')  # reads the income shee t from excel file"
   ]
  },
  {
   "cell_type": "code",
   "execution_count": 8,
   "metadata": {},
   "outputs": [
    {
     "data": {
      "text/plain": [
       "[          Eastern Conference  W  L   W/L%   GB   PS/G   PA/G    SRS\n",
       " 0     Philadelphia 76ers (1)  5  1  0.833    —  114.0  107.3   9.45\n",
       " 1             Miami Heat (1)  5  1  0.833    —  117.8  106.2  14.06\n",
       " 2         Boston Celtics (3)  4  1  0.800  0.5  108.6  103.0   6.75\n",
       " 3        Milwaukee Bucks (4)  5  2  0.714  0.5  121.3  110.3  13.19\n",
       " 4        Toronto Raptors (5)  4  2  0.667  1.0  113.0  106.8   4.82\n",
       " 5      Charlotte Hornets (6)  3  3  0.500  2.0  105.5  112.5  -7.46\n",
       " 6         Indiana Pacers (6)  3  3  0.500  2.0  105.2  103.8  -6.10\n",
       " 7          Brooklyn Nets (8)  3  4  0.429  2.5  121.0  120.3  -4.56\n",
       " 8          Atlanta Hawks (9)  2  3  0.400  2.5  103.4  104.4   4.38\n",
       " 9       Detroit Pistons (10)  3  5  0.375  3.0  107.1  112.4  -6.49\n",
       " 10   Washington Wizards (11)  2  4  0.333  3.0  116.8  117.7  -0.33\n",
       " 11        Orlando Magic (11)  2  4  0.333  3.0   93.5   98.2  -4.19\n",
       " 12  Cleveland Cavaliers (11)  2  4  0.333  3.0  105.0  111.0  -7.81\n",
       " 13        Chicago Bulls (14)  2  5  0.286  3.5  105.0  110.3 -11.45\n",
       " 14      New York Knicks (15)  1  6  0.143  4.5   99.6  108.7 -10.87,\n",
       "              Western Conference  W  L   W/L%   GB   PS/G   PA/G    SRS\n",
       " 0        Los Angeles Lakers (1)  5  1  0.833    —  109.8   99.3  11.61\n",
       " 1      Los Angeles Clippers (2)  5  2  0.714  0.5  112.9  107.3   8.88\n",
       " 2              Phoenix Suns (2)  5  2  0.714  0.5  115.0  106.4   8.52\n",
       " 3            Denver Nuggets (4)  4  2  0.667  1.0  103.5  103.2  -0.85\n",
       " 4          Dallas Mavericks (4)  4  2  0.667  1.0  116.7  112.2   3.82\n",
       " 5    Minnesota Timberwolves (4)  4  2  0.667  1.0  116.0  115.7   4.39\n",
       " 6         San Antonio Spurs (4)  4  2  0.667  1.0  112.8  109.8   3.13\n",
       " 7           Houston Rockets (8)  4  3  0.571  1.5  119.3  123.1  -2.71\n",
       " 8                 Utah Jazz (8)  4  3  0.571  1.5  100.0   95.6   7.54\n",
       " 9   Portland Trail Blazers (10)  3  4  0.429  2.5  114.4  115.3  -0.82\n",
       " 10   Oklahoma City Thunder (11)  2  4  0.333  3.0  104.3  101.8   0.85\n",
       " 11        Sacramento Kings (12)  2  5  0.286  3.5  101.1  110.1  -8.49\n",
       " 12   Golden State Warriors (12)  2  5  0.286  3.5  111.7  120.4  -7.69\n",
       " 13       Memphis Grizzlies (14)  1  5  0.167  4.0  105.5  117.3  -9.26\n",
       " 14    New Orleans Pelicans (15)  1  6  0.143  4.5  119.3  124.3  -5.90,\n",
       "           Eastern Conference                   W                   L  \\\n",
       " 0          Atlantic Division   Atlantic Division   Atlantic Division   \n",
       " 1     Philadelphia 76ers (1)                   5                   1   \n",
       " 2         Boston Celtics (3)                   4                   1   \n",
       " 3        Toronto Raptors (5)                   4                   2   \n",
       " 4          Brooklyn Nets (8)                   3                   4   \n",
       " 5       New York Knicks (15)                   1                   6   \n",
       " 6           Central Division    Central Division    Central Division   \n",
       " 7        Milwaukee Bucks (4)                   5                   2   \n",
       " 8         Indiana Pacers (6)                   3                   3   \n",
       " 9       Detroit Pistons (10)                   3                   5   \n",
       " 10  Cleveland Cavaliers (11)                   2                   4   \n",
       " 11        Chicago Bulls (14)                   2                   5   \n",
       " 12        Southeast Division  Southeast Division  Southeast Division   \n",
       " 13            Miami Heat (1)                   5                   1   \n",
       " 14     Charlotte Hornets (6)                   3                   3   \n",
       " 15         Atlanta Hawks (9)                   2                   3   \n",
       " 16   Washington Wizards (11)                   2                   4   \n",
       " 17        Orlando Magic (11)                   2                   4   \n",
       " \n",
       "                   W/L%                  GB                PS/G  \\\n",
       " 0    Atlantic Division   Atlantic Division   Atlantic Division   \n",
       " 1                 .833                   —               114.0   \n",
       " 2                 .800                 0.5               108.6   \n",
       " 3                 .667                 1.0               113.0   \n",
       " 4                 .429                 2.5               121.0   \n",
       " 5                 .143                 4.5                99.6   \n",
       " 6     Central Division    Central Division    Central Division   \n",
       " 7                 .714                   —               121.3   \n",
       " 8                 .500                 1.5               105.2   \n",
       " 9                 .375                 2.5               107.1   \n",
       " 10                .333                 2.5               105.0   \n",
       " 11                .286                 3.0               105.0   \n",
       " 12  Southeast Division  Southeast Division  Southeast Division   \n",
       " 13                .833                   —               117.8   \n",
       " 14                .500                 2.0               105.5   \n",
       " 15                .400                 2.5               103.4   \n",
       " 16                .333                 3.0               116.8   \n",
       " 17                .333                 3.0                93.5   \n",
       " \n",
       "                   PA/G                 SRS  \n",
       " 0    Atlantic Division   Atlantic Division  \n",
       " 1                107.3                9.45  \n",
       " 2                103.0                6.75  \n",
       " 3                106.8                4.82  \n",
       " 4                120.3               -4.56  \n",
       " 5                108.7              -10.87  \n",
       " 6     Central Division    Central Division  \n",
       " 7                110.3               13.19  \n",
       " 8                103.8               -6.10  \n",
       " 9                112.4               -6.49  \n",
       " 10               111.0               -7.81  \n",
       " 11               110.3              -11.45  \n",
       " 12  Southeast Division  Southeast Division  \n",
       " 13               106.2               14.06  \n",
       " 14               112.5               -7.46  \n",
       " 15               104.4                4.38  \n",
       " 16               117.7               -0.33  \n",
       " 17                98.2               -4.19  ,\n",
       "              Western Conference                   W                   L  \\\n",
       " 0            Northwest Division  Northwest Division  Northwest Division   \n",
       " 1    Minnesota Timberwolves (4)                   4                   2   \n",
       " 2            Denver Nuggets (4)                   4                   2   \n",
       " 3                 Utah Jazz (8)                   4                   3   \n",
       " 4   Portland Trail Blazers (10)                   3                   4   \n",
       " 5    Oklahoma City Thunder (11)                   2                   4   \n",
       " 6              Pacific Division    Pacific Division    Pacific Division   \n",
       " 7        Los Angeles Lakers (1)                   5                   1   \n",
       " 8              Phoenix Suns (2)                   5                   2   \n",
       " 9      Los Angeles Clippers (2)                   5                   2   \n",
       " 10   Golden State Warriors (12)                   2                   5   \n",
       " 11        Sacramento Kings (12)                   2                   5   \n",
       " 12           Southwest Division  Southwest Division  Southwest Division   \n",
       " 13         Dallas Mavericks (4)                   4                   2   \n",
       " 14        San Antonio Spurs (4)                   4                   2   \n",
       " 15          Houston Rockets (8)                   4                   3   \n",
       " 16       Memphis Grizzlies (14)                   1                   5   \n",
       " 17    New Orleans Pelicans (15)                   1                   6   \n",
       " \n",
       "                   W/L%                  GB                PS/G  \\\n",
       " 0   Northwest Division  Northwest Division  Northwest Division   \n",
       " 1                 .667                   —               116.0   \n",
       " 2                 .667                   —               103.5   \n",
       " 3                 .571                 0.5               100.0   \n",
       " 4                 .429                 1.5               114.4   \n",
       " 5                 .333                 2.0               104.3   \n",
       " 6     Pacific Division    Pacific Division    Pacific Division   \n",
       " 7                 .833                   —               109.8   \n",
       " 8                 .714                 0.5               115.0   \n",
       " 9                 .714                 0.5               112.9   \n",
       " 10                .286                 3.5               111.7   \n",
       " 11                .286                 3.5               101.1   \n",
       " 12  Southwest Division  Southwest Division  Southwest Division   \n",
       " 13                .667                   —               116.7   \n",
       " 14                .667                   —               112.8   \n",
       " 15                .571                 0.5               119.3   \n",
       " 16                .167                 3.0               105.5   \n",
       " 17                .143                 3.5               119.3   \n",
       " \n",
       "                   PA/G                 SRS  \n",
       " 0   Northwest Division  Northwest Division  \n",
       " 1                115.7                4.39  \n",
       " 2                103.2               -0.85  \n",
       " 3                 95.6                7.54  \n",
       " 4                115.3               -0.82  \n",
       " 5                101.8                0.85  \n",
       " 6     Pacific Division    Pacific Division  \n",
       " 7                 99.3               11.61  \n",
       " 8                106.4                8.52  \n",
       " 9                107.3                8.88  \n",
       " 10               120.4               -7.69  \n",
       " 11               110.1               -8.49  \n",
       " 12  Southwest Division  Southwest Division  \n",
       " 13               112.2                3.82  \n",
       " 14               109.8                3.13  \n",
       " 15               123.1               -2.71  \n",
       " 16               117.3               -9.26  \n",
       " 17               124.3               -5.90  ]"
      ]
     },
     "execution_count": 8,
     "metadata": {},
     "output_type": "execute_result"
    }
   ],
   "source": [
    "# reading data from html\n",
    "\n",
    "url = \"https://www.basketball-reference.com/leagues/NBA_2020.html\"  \n",
    "BB_data = pd.read_html(url)  # if there is a tabular format, it will read all the data \n",
    "BB_data"
   ]
  },
  {
   "cell_type": "code",
   "execution_count": 9,
   "metadata": {},
   "outputs": [
    {
     "name": "stderr",
     "output_type": "stream",
     "text": [
      "C:\\Users\\Sunil Kumar\\Anaconda3\\lib\\site-packages\\ipykernel_launcher.py:1: DeprecationWarning: \n",
      ".ix is deprecated. Please use\n",
      ".loc for label based indexing or\n",
      ".iloc for positional indexing\n",
      "\n",
      "See the documentation here:\n",
      "http://pandas.pydata.org/pandas-docs/stable/indexing.html#ix-indexer-is-deprecated\n",
      "  \"\"\"Entry point for launching an IPython kernel.\n"
     ]
    },
    {
     "data": {
      "text/html": [
       "<div>\n",
       "<style scoped>\n",
       "    .dataframe tbody tr th:only-of-type {\n",
       "        vertical-align: middle;\n",
       "    }\n",
       "\n",
       "    .dataframe tbody tr th {\n",
       "        vertical-align: top;\n",
       "    }\n",
       "\n",
       "    .dataframe thead th {\n",
       "        text-align: right;\n",
       "    }\n",
       "</style>\n",
       "<table border=\"1\" class=\"dataframe\">\n",
       "  <thead>\n",
       "    <tr style=\"text-align: right;\">\n",
       "      <th></th>\n",
       "      <th>Eastern Conference</th>\n",
       "      <th>W</th>\n",
       "      <th>L</th>\n",
       "      <th>W/L%</th>\n",
       "      <th>GB</th>\n",
       "      <th>PS/G</th>\n",
       "      <th>PA/G</th>\n",
       "      <th>SRS</th>\n",
       "    </tr>\n",
       "  </thead>\n",
       "  <tbody>\n",
       "    <tr>\n",
       "      <th>0</th>\n",
       "      <td>Philadelphia 76ers (1)</td>\n",
       "      <td>5</td>\n",
       "      <td>1</td>\n",
       "      <td>0.833</td>\n",
       "      <td>—</td>\n",
       "      <td>114.0</td>\n",
       "      <td>107.3</td>\n",
       "      <td>9.45</td>\n",
       "    </tr>\n",
       "    <tr>\n",
       "      <th>1</th>\n",
       "      <td>Miami Heat (1)</td>\n",
       "      <td>5</td>\n",
       "      <td>1</td>\n",
       "      <td>0.833</td>\n",
       "      <td>—</td>\n",
       "      <td>117.8</td>\n",
       "      <td>106.2</td>\n",
       "      <td>14.06</td>\n",
       "    </tr>\n",
       "    <tr>\n",
       "      <th>2</th>\n",
       "      <td>Boston Celtics (3)</td>\n",
       "      <td>4</td>\n",
       "      <td>1</td>\n",
       "      <td>0.800</td>\n",
       "      <td>0.5</td>\n",
       "      <td>108.6</td>\n",
       "      <td>103.0</td>\n",
       "      <td>6.75</td>\n",
       "    </tr>\n",
       "    <tr>\n",
       "      <th>3</th>\n",
       "      <td>Milwaukee Bucks (4)</td>\n",
       "      <td>5</td>\n",
       "      <td>2</td>\n",
       "      <td>0.714</td>\n",
       "      <td>0.5</td>\n",
       "      <td>121.3</td>\n",
       "      <td>110.3</td>\n",
       "      <td>13.19</td>\n",
       "    </tr>\n",
       "    <tr>\n",
       "      <th>4</th>\n",
       "      <td>Toronto Raptors (5)</td>\n",
       "      <td>4</td>\n",
       "      <td>2</td>\n",
       "      <td>0.667</td>\n",
       "      <td>1.0</td>\n",
       "      <td>113.0</td>\n",
       "      <td>106.8</td>\n",
       "      <td>4.82</td>\n",
       "    </tr>\n",
       "  </tbody>\n",
       "</table>\n",
       "</div>"
      ],
      "text/plain": [
       "       Eastern Conference  W  L   W/L%   GB   PS/G   PA/G    SRS\n",
       "0  Philadelphia 76ers (1)  5  1  0.833    —  114.0  107.3   9.45\n",
       "1          Miami Heat (1)  5  1  0.833    —  117.8  106.2  14.06\n",
       "2      Boston Celtics (3)  4  1  0.800  0.5  108.6  103.0   6.75\n",
       "3     Milwaukee Bucks (4)  5  2  0.714  0.5  121.3  110.3  13.19\n",
       "4     Toronto Raptors (5)  4  2  0.667  1.0  113.0  106.8   4.82"
      ]
     },
     "execution_count": 9,
     "metadata": {},
     "output_type": "execute_result"
    }
   ],
   "source": [
    "BB_data[0].ix[:, 0:20].head(5)  # starting from 0th index. ix is used for filtering where all the rows and columns \n",
    "                                # from 0 to 20 needs to be displayed"
   ]
  },
  {
   "cell_type": "code",
   "execution_count": null,
   "metadata": {},
   "outputs": [],
   "source": [
    "# printing all rows from 0 - 20 columns."
   ]
  },
  {
   "cell_type": "code",
   "execution_count": 15,
   "metadata": {},
   "outputs": [
    {
     "data": {
      "text/plain": [
       "<bound method NDFrame.head of    a   b\n",
       "0  1   2\n",
       "1  5   6\n",
       "2  9  10>"
      ]
     },
     "execution_count": 15,
     "metadata": {},
     "output_type": "execute_result"
    }
   ],
   "source": [
    "data2[['a','b']].head  # retrives the said columns from the data frame"
   ]
  },
  {
   "cell_type": "code",
   "execution_count": null,
   "metadata": {},
   "outputs": [],
   "source": [
    " pd.options.display.max_rows = 10  \n",
    "# globally declaring that you would like to display max 10 rows. this can be achieved\n",
    "# through head() function but you need to mention everytime the head and the number of rows. But here you are declaring /\n",
    "# mentioning the maximum rows to be 10 for all the data sets that you would like to view"
   ]
  },
  {
   "cell_type": "code",
   "execution_count": 22,
   "metadata": {},
   "outputs": [],
   "source": [
    "Ins = pd.read_csv(\"E:/DS -Python/insurance.csv\", nrows = 10) # with nrows = it is displaying the first 10 rows\n"
   ]
  },
  {
   "cell_type": "code",
   "execution_count": 23,
   "metadata": {},
   "outputs": [
    {
     "data": {
      "text/html": [
       "<div>\n",
       "<style scoped>\n",
       "    .dataframe tbody tr th:only-of-type {\n",
       "        vertical-align: middle;\n",
       "    }\n",
       "\n",
       "    .dataframe tbody tr th {\n",
       "        vertical-align: top;\n",
       "    }\n",
       "\n",
       "    .dataframe thead th {\n",
       "        text-align: right;\n",
       "    }\n",
       "</style>\n",
       "<table border=\"1\" class=\"dataframe\">\n",
       "  <thead>\n",
       "    <tr style=\"text-align: right;\">\n",
       "      <th></th>\n",
       "      <th>age</th>\n",
       "      <th>sex</th>\n",
       "      <th>bmi</th>\n",
       "      <th>children</th>\n",
       "      <th>smoker</th>\n",
       "      <th>region</th>\n",
       "      <th>charges</th>\n",
       "    </tr>\n",
       "  </thead>\n",
       "  <tbody>\n",
       "    <tr>\n",
       "      <th>0</th>\n",
       "      <td>19</td>\n",
       "      <td>female</td>\n",
       "      <td>27.900</td>\n",
       "      <td>0</td>\n",
       "      <td>yes</td>\n",
       "      <td>southwest</td>\n",
       "      <td>16884.92400</td>\n",
       "    </tr>\n",
       "    <tr>\n",
       "      <th>1</th>\n",
       "      <td>18</td>\n",
       "      <td>male</td>\n",
       "      <td>33.770</td>\n",
       "      <td>1</td>\n",
       "      <td>no</td>\n",
       "      <td>southeast</td>\n",
       "      <td>1725.55230</td>\n",
       "    </tr>\n",
       "    <tr>\n",
       "      <th>2</th>\n",
       "      <td>28</td>\n",
       "      <td>male</td>\n",
       "      <td>33.000</td>\n",
       "      <td>3</td>\n",
       "      <td>no</td>\n",
       "      <td>southeast</td>\n",
       "      <td>4449.46200</td>\n",
       "    </tr>\n",
       "    <tr>\n",
       "      <th>3</th>\n",
       "      <td>33</td>\n",
       "      <td>male</td>\n",
       "      <td>22.705</td>\n",
       "      <td>0</td>\n",
       "      <td>no</td>\n",
       "      <td>northwest</td>\n",
       "      <td>21984.47061</td>\n",
       "    </tr>\n",
       "    <tr>\n",
       "      <th>4</th>\n",
       "      <td>32</td>\n",
       "      <td>male</td>\n",
       "      <td>28.880</td>\n",
       "      <td>0</td>\n",
       "      <td>no</td>\n",
       "      <td>northwest</td>\n",
       "      <td>3866.85520</td>\n",
       "    </tr>\n",
       "    <tr>\n",
       "      <th>5</th>\n",
       "      <td>31</td>\n",
       "      <td>female</td>\n",
       "      <td>25.740</td>\n",
       "      <td>0</td>\n",
       "      <td>no</td>\n",
       "      <td>southeast</td>\n",
       "      <td>3756.62160</td>\n",
       "    </tr>\n",
       "    <tr>\n",
       "      <th>6</th>\n",
       "      <td>46</td>\n",
       "      <td>female</td>\n",
       "      <td>33.440</td>\n",
       "      <td>1</td>\n",
       "      <td>no</td>\n",
       "      <td>southeast</td>\n",
       "      <td>8240.58960</td>\n",
       "    </tr>\n",
       "    <tr>\n",
       "      <th>7</th>\n",
       "      <td>37</td>\n",
       "      <td>female</td>\n",
       "      <td>27.740</td>\n",
       "      <td>3</td>\n",
       "      <td>no</td>\n",
       "      <td>northwest</td>\n",
       "      <td>7281.50560</td>\n",
       "    </tr>\n",
       "    <tr>\n",
       "      <th>8</th>\n",
       "      <td>37</td>\n",
       "      <td>male</td>\n",
       "      <td>29.830</td>\n",
       "      <td>2</td>\n",
       "      <td>no</td>\n",
       "      <td>northeast</td>\n",
       "      <td>6406.41070</td>\n",
       "    </tr>\n",
       "    <tr>\n",
       "      <th>9</th>\n",
       "      <td>60</td>\n",
       "      <td>female</td>\n",
       "      <td>25.840</td>\n",
       "      <td>0</td>\n",
       "      <td>no</td>\n",
       "      <td>northwest</td>\n",
       "      <td>28923.13692</td>\n",
       "    </tr>\n",
       "  </tbody>\n",
       "</table>\n",
       "</div>"
      ],
      "text/plain": [
       "   age     sex     bmi  children smoker     region      charges\n",
       "0   19  female  27.900         0    yes  southwest  16884.92400\n",
       "1   18    male  33.770         1     no  southeast   1725.55230\n",
       "2   28    male  33.000         3     no  southeast   4449.46200\n",
       "3   33    male  22.705         0     no  northwest  21984.47061\n",
       "4   32    male  28.880         0     no  northwest   3866.85520\n",
       "5   31  female  25.740         0     no  southeast   3756.62160\n",
       "6   46  female  33.440         1     no  southeast   8240.58960\n",
       "7   37  female  27.740         3     no  northwest   7281.50560\n",
       "8   37    male  29.830         2     no  northeast   6406.41070\n",
       "9   60  female  25.840         0     no  northwest  28923.13692"
      ]
     },
     "execution_count": 23,
     "metadata": {},
     "output_type": "execute_result"
    }
   ],
   "source": [
    "Ins     "
   ]
  },
  {
   "cell_type": "code",
   "execution_count": 25,
   "metadata": {},
   "outputs": [],
   "source": [
    "chunk_data = pd.read_csv(\"E:/DS -Python/insurance.csv\", chunksize = 1000) # will take at max 1000kb size data and display it"
   ]
  },
  {
   "cell_type": "code",
   "execution_count": 28,
   "metadata": {},
   "outputs": [
    {
     "data": {
      "text/plain": [
       "<pandas.io.parsers.TextFileReader at 0x2b111eebeb8>"
      ]
     },
     "execution_count": 28,
     "metadata": {},
     "output_type": "execute_result"
    }
   ],
   "source": [
    "chunk_data"
   ]
  },
  {
   "cell_type": "markdown",
   "metadata": {},
   "source": [
    "# Writing data to csv"
   ]
  },
  {
   "cell_type": "code",
   "execution_count": 29,
   "metadata": {},
   "outputs": [],
   "source": [
    "data2.to_csv(\"E:/DS -Python/demo_out.csv\")"
   ]
  },
  {
   "cell_type": "code",
   "execution_count": null,
   "metadata": {},
   "outputs": [],
   "source": [
    " JSON Data #   Java Script object notation\n",
    "            # JSON supports Dictionary. So the data will be in the form key and values"
   ]
  },
  {
   "cell_type": "code",
   "execution_count": 3,
   "metadata": {},
   "outputs": [],
   "source": [
    "obj = '''{\"name\" : \"Wes\",\n",
    " \"places lived\": [\"united states\", \"germany\",\"spain\"]\n",
    "}'''"
   ]
  },
  {
   "cell_type": "code",
   "execution_count": 4,
   "metadata": {},
   "outputs": [
    {
     "data": {
      "text/plain": [
       "{'name': 'Wes', 'places lived': ['united states', 'germany', 'spain']}"
      ]
     },
     "execution_count": 4,
     "metadata": {},
     "output_type": "execute_result"
    }
   ],
   "source": [
    "import json\n",
    "result  = json.loads(obj)\n",
    "result"
   ]
  },
  {
   "cell_type": "code",
   "execution_count": null,
   "metadata": {},
   "outputs": [],
   "source": []
  },
  {
   "cell_type": "code",
   "execution_count": null,
   "metadata": {},
   "outputs": [],
   "source": []
  },
  {
   "cell_type": "code",
   "execution_count": null,
   "metadata": {},
   "outputs": [],
   "source": []
  },
  {
   "cell_type": "code",
   "execution_count": null,
   "metadata": {},
   "outputs": [],
   "source": []
  },
  {
   "cell_type": "code",
   "execution_count": null,
   "metadata": {},
   "outputs": [],
   "source": []
  },
  {
   "cell_type": "code",
   "execution_count": null,
   "metadata": {},
   "outputs": [],
   "source": []
  }
 ],
 "metadata": {
  "kernelspec": {
   "display_name": "Python 3",
   "language": "python",
   "name": "python3"
  },
  "language_info": {
   "codemirror_mode": {
    "name": "ipython",
    "version": 3
   },
   "file_extension": ".py",
   "mimetype": "text/x-python",
   "name": "python",
   "nbconvert_exporter": "python",
   "pygments_lexer": "ipython3",
   "version": "3.7.5"
  }
 },
 "nbformat": 4,
 "nbformat_minor": 2
}
